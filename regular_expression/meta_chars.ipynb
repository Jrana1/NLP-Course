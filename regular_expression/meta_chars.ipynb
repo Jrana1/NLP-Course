{
 "cells": [
  {
   "cell_type": "markdown",
   "metadata": {},
   "source": [
    "## Meta Characters"
   ]
  },
  {
   "cell_type": "markdown",
   "metadata": {},
   "source": [
    "some meta chars are ..<h3 style=\"color:green\">. ^ $ * + ? {} [] () / | </h3> "
   ]
  },
  {
   "cell_type": "markdown",
   "metadata": {},
   "source": [
    "### []"
   ]
  },
  {
   "cell_type": "code",
   "execution_count": 2,
   "metadata": {},
   "outputs": [],
   "source": [
    "import re"
   ]
  },
  {
   "cell_type": "code",
   "execution_count": 8,
   "metadata": {},
   "outputs": [
    {
     "data": {
      "text/plain": [
       "['a', 'b', 'a', 'd', 'c']"
      ]
     },
     "execution_count": 8,
     "metadata": {},
     "output_type": "execute_result"
    }
   ],
   "source": [
    "re.findall('[a-d]',\"ajflbadc\") # find chars between a to d"
   ]
  },
  {
   "cell_type": "code",
   "execution_count": 4,
   "metadata": {},
   "outputs": [
    {
     "data": {
      "text/plain": [
       "['a', 'b', 'a', 'd', 'c']"
      ]
     },
     "execution_count": 4,
     "metadata": {},
     "output_type": "execute_result"
    }
   ],
   "source": [
    "re.findall('[abcd]',\"ajflbadc\") # order does not matter inside []"
   ]
  },
  {
   "cell_type": "code",
   "execution_count": 7,
   "metadata": {},
   "outputs": [
    {
     "data": {
      "text/plain": [
       "6"
      ]
     },
     "execution_count": 7,
     "metadata": {},
     "output_type": "execute_result"
    }
   ],
   "source": [
    "len(re.findall('[0-9]',\"aj0fld23ba6dc32\")) # find num of digits in a text"
   ]
  },
  {
   "cell_type": "code",
   "execution_count": 9,
   "metadata": {},
   "outputs": [
    {
     "data": {
      "text/plain": [
       "['2323', '2321']"
      ]
     },
     "execution_count": 9,
     "metadata": {},
     "output_type": "execute_result"
    }
   ],
   "source": [
    "re.findall('[0-9]{4}',\"fal2323fjlaf2321\") # find 4 consecutive digits"
   ]
  },
  {
   "cell_type": "code",
   "execution_count": 15,
   "metadata": {},
   "outputs": [
    {
     "data": {
      "text/plain": [
       "['1', '2323', '23', '2321']"
      ]
     },
     "execution_count": 15,
     "metadata": {},
     "output_type": "execute_result"
    }
   ],
   "source": [
    "re.findall('\\d+',\"f1al2323fj23laf2321\") # find numbers inside a text"
   ]
  },
  {
   "cell_type": "code",
   "execution_count": 16,
   "metadata": {},
   "outputs": [
    {
     "data": {
      "text/plain": [
       "['1', '2323', '-23', '2321']"
      ]
     },
     "execution_count": 16,
     "metadata": {},
     "output_type": "execute_result"
    }
   ],
   "source": [
    "re.findall('-?\\d+',\"f1al2323fj-23laf2321\") # if negative number. '?'-> optional"
   ]
  },
  {
   "cell_type": "code",
   "execution_count": 10,
   "metadata": {},
   "outputs": [
    {
     "data": {
      "text/plain": [
       "['2323', '2321']"
      ]
     },
     "execution_count": 10,
     "metadata": {},
     "output_type": "execute_result"
    }
   ],
   "source": [
    "re.findall('[0-9][0-9][0-9][0-9]',\"fal2323fjlaf2321\") # work same as [0-9]{4}"
   ]
  },
  {
   "cell_type": "markdown",
   "metadata": {},
   "source": [
    "<h3>^</h3> Set complement: [^023ab] everything other than {0,2,3,a,b}<br>\n",
    "Position Matters: [023ab^] everything in {0,2,3,a,b,^}"
   ]
  },
  {
   "cell_type": "code",
   "execution_count": 17,
   "metadata": {},
   "outputs": [
    {
     "data": {
      "text/plain": [
       "['2', '3', '1', '1']"
      ]
     },
     "execution_count": 17,
     "metadata": {},
     "output_type": "execute_result"
    }
   ],
   "source": [
    "# find only digits\n",
    "re.findall('[^a-z]',\"fjlaj23afjla11afj\")"
   ]
  },
  {
   "cell_type": "markdown",
   "metadata": {},
   "source": [
    "<h3>\\<h3> \n",
    "count all the backslashes in a document"
   ]
  },
  {
   "cell_type": "code",
   "execution_count": 28,
   "metadata": {},
   "outputs": [
    {
     "name": "stdout",
     "output_type": "stream",
     "text": [
      "\\\\ \\\n"
     ]
    }
   ],
   "source": [
    "print(\"\\\\\\\\\",\"\\\\\")"
   ]
  },
  {
   "cell_type": "code",
   "execution_count": 36,
   "metadata": {},
   "outputs": [
    {
     "name": "stdout",
     "output_type": "stream",
     "text": [
      "1\n",
      "1\n",
      "1\n",
      "1\n"
     ]
    }
   ],
   "source": [
    "document = \"\\n for new [line, ] \\section and \\document and \\\\\\section \\n\"\n",
    "arr=re.findall(\"\\\\\\\\\",document)\n",
    "for x in arr:\n",
    "    print(len(x))"
   ]
  },
  {
   "cell_type": "code",
   "execution_count": 37,
   "metadata": {},
   "outputs": [
    {
     "name": "stdout",
     "output_type": "stream",
     "text": [
      "1\n",
      "1\n",
      "1\n",
      "1\n",
      "1\n",
      "1\n",
      "1\n"
     ]
    }
   ],
   "source": [
    "document = r\"\\n for new [line, ] \\section and \\document and \\\\\\section \\n\"\n",
    "arr=re.findall(\"\\\\\\\\\",document)\n",
    "for x in arr:\n",
    "    print(len(x))"
   ]
  },
  {
   "cell_type": "code",
   "execution_count": 44,
   "metadata": {},
   "outputs": [
    {
     "name": "stdout",
     "output_type": "stream",
     "text": [
      "\\section \\\\section \\\\section \\\\\\section\n"
     ]
    }
   ],
   "source": [
    "print(\"\\\\section\",\"\\\\\\section\",\"\\\\\\\\section\",\"\\\\\\\\\\section\")"
   ]
  },
  {
   "cell_type": "code",
   "execution_count": 57,
   "metadata": {},
   "outputs": [
    {
     "data": {
      "text/plain": [
       "(['\\\\', '[', ']', '\\\\', '\\\\', '\\\\', '\\\\', '\\\\', '\\\\'], ['[', ']'])"
      ]
     },
     "execution_count": 57,
     "metadata": {},
     "output_type": "execute_result"
    }
   ],
   "source": [
    "# # find out number of backslashes and brackets in a document\n",
    "document = r\"\\n for new [line, ] \\section and \\document and \\\\\\section \\n\"\n",
    "re.findall(\"[\\[\\]\\\\\\\\]\",document),re.findall(\"[\\[\\]]\",document)"
   ]
  },
  {
   "cell_type": "code",
   "execution_count": 62,
   "metadata": {},
   "outputs": [
    {
     "data": {
      "text/plain": [
       "['\\\\section', '\\\\section']"
      ]
     },
     "execution_count": 62,
     "metadata": {},
     "output_type": "execute_result"
    }
   ],
   "source": [
    "# count all \\section in a document\n",
    "re.findall(\"[\\\\\\]section\",document)"
   ]
  },
  {
   "cell_type": "code",
   "execution_count": 63,
   "metadata": {},
   "outputs": [
    {
     "name": "stdout",
     "output_type": "stream",
     "text": [
      "8\n",
      "8\n"
     ]
    }
   ],
   "source": [
    "ar=re.findall(\"[\\\\\\]section\",document)\n",
    "for x in ar:\n",
    "    print(len(x))"
   ]
  },
  {
   "cell_type": "code",
   "execution_count": 69,
   "metadata": {},
   "outputs": [
    {
     "data": {
      "text/plain": [
       "['2',\n",
       " ' ',\n",
       " ' ',\n",
       " ' ',\n",
       " '_',\n",
       " ' ',\n",
       " ',',\n",
       " '_',\n",
       " '2',\n",
       " '3',\n",
       " ' ',\n",
       " '2',\n",
       " '3',\n",
       " '2',\n",
       " '3',\n",
       " '_']"
      ]
     },
     "execution_count": 69,
     "metadata": {},
     "output_type": "execute_result"
    }
   ],
   "source": [
    "# count the number of spaces, digits, and underscores in a doc\n",
    "doc=r\"hell2 flaj lafka _jfal ldf,al_lfjal23 23lldjfa23_ladl\"\n",
    "re.findall(\"[\\s\\d,_]\",doc)"
   ]
  },
  {
   "cell_type": "markdown",
   "metadata": {},
   "source": [
    "<h3>*</h3>\n",
    "find repeated pattern, from 0 to inf<br>"
   ]
  },
  {
   "cell_type": "code",
   "execution_count": 72,
   "metadata": {},
   "outputs": [
    {
     "data": {
      "text/plain": [
       "['ok', 'ok', 'ok', 'ok']"
      ]
     },
     "execution_count": 72,
     "metadata": {},
     "output_type": "execute_result"
    }
   ],
   "source": [
    "re.findall(\"ok\",doc)"
   ]
  },
  {
   "cell_type": "code",
   "execution_count": 75,
   "metadata": {},
   "outputs": [
    {
     "data": {
      "text/plain": [
       "['ok', 'okkk', 'okkkk', 'okkkkkkk', 'ok']"
      ]
     },
     "execution_count": 75,
     "metadata": {},
     "output_type": "execute_result"
    }
   ],
   "source": [
    "doc=\"okokkkokkkkokkkkkkkojok\"\n",
    "re.findall(\"ok+\",doc)# first char is o. and then min one k"
   ]
  },
  {
   "cell_type": "code",
   "execution_count": 92,
   "metadata": {},
   "outputs": [
    {
     "data": {
      "text/plain": [
       "['my_int', 'first3Num', 'person_list', 'adjla', 'ald', 'my_int']"
      ]
     },
     "execution_count": 92,
     "metadata": {},
     "output_type": "execute_result"
    }
   ],
   "source": [
    "# find a valid variable name in a common prog language\n",
    "#  - no digit at the beginning\n",
    "#  - no special char other than _ \n",
    "#  - can have m arbitrary number of chars\n",
    "\n",
    "doc=\"my_int first3Num person_list adjla,ald 1my_int\"  \n",
    "\n",
    "re.findall(\"[a-zA-Z]\\w+\",doc)\n"
   ]
  },
  {
   "cell_type": "code",
   "execution_count": 100,
   "metadata": {},
   "outputs": [],
   "source": [
    "doc= r\"\"\"#include <bits/stdc++.h>\n",
    "using namespace std;\n",
    "\n",
    "// top to bottom approach\n",
    "\n",
    "int fun(vector<vector<int>> &tri)\n",
    "{\n",
    "\n",
    "    for (int i = 1; i < tri.size(); i++)\n",
    "    {\n",
    "\n",
    "        int st = 0;\n",
    "        int end = tri[i].size();\n",
    "        while (st < end)\n",
    "        {\n",
    "            if (st == 0)\n",
    "            {\n",
    "\n",
    "                tri[i][st] += tri[i - 1][st];\n",
    "            }\n",
    "            else if (st == end - 1)\n",
    "            {\n",
    "                tri[i][st] += tri[i - 1][tri[i - 1].size() - 1];\n",
    "            }\n",
    "            else\n",
    "            {\n",
    "\n",
    "                tri[i][st] += min(tri[i - 1][st - 1], tri[i - 1][st]);\n",
    "            }\n",
    "            st++;\n",
    "        }\n",
    "    }\n",
    "    // find min element from last row\n",
    "    int mn = INT_MAX;\n",
    "    for (auto x : tri[tri.size() - 1])\n",
    "    {\n",
    "        mn = min(mn, x);\n",
    "    }\n",
    "    return mn;\n",
    "}\n",
    "// bottom to top approach\n",
    "int fun2(vector<vector<int>> &triangle)\n",
    "{\n",
    "\n",
    "    for (int i = triangle.size() - 2; i >= 0; i--)\n",
    "    {\n",
    "\n",
    "        for (int j = 0; j < triangle[i].size(); j++)\n",
    "        {\n",
    "\n",
    "            triangle[i][j] += min(triangle[i + 1][j], triangle[i + 1][j + 1]);\n",
    "        }\n",
    "    }\n",
    "    return triangle[0][0];\n",
    "}\n",
    "int main()\n",
    "{\n",
    "\n",
    "    vector<vector<int>> tri = {\n",
    "\n",
    "        {2},\n",
    "        {3, 4},\n",
    "        {6, 5, 7},\n",
    "        {4, 1, 8, 3}\n",
    "\n",
    "    };\n",
    "    cout << fun2(tri) << endl;\n",
    "    print()\n",
    "    return 0;\n",
    "}\"\"\""
   ]
  },
  {
   "cell_type": "code",
   "execution_count": 112,
   "metadata": {},
   "outputs": [
    {
     "data": {
      "text/plain": [
       "({'fun2(tri)', 'main()', 'print()', 'size()'},\n",
       " {' fun2(tri)', ' main()', ' print()', '.size()'})"
      ]
     },
     "execution_count": 112,
     "metadata": {},
     "output_type": "execute_result"
    }
   ],
   "source": [
    "set(re.findall(\"[a-zA-Z_]\\w*\\(\\w*\\)\",doc)),set(re.findall(\"[^0-9]\\w*\\(\\w*\\)\",doc)) # find all the functions "
   ]
  },
  {
   "cell_type": "code",
   "execution_count": 108,
   "metadata": {},
   "outputs": [
    {
     "data": {
      "text/plain": [
       "['jeweewwel']"
      ]
     },
     "execution_count": 108,
     "metadata": {},
     "output_type": "execute_result"
    }
   ],
   "source": [
    "re.findall(\"j[we]*l\",\"jeweewwel jew ewel jranal jeweewwe\")"
   ]
  },
  {
   "cell_type": "markdown",
   "metadata": {},
   "source": [
    "<h3>?</h3>\n",
    "optional"
   ]
  },
  {
   "cell_type": "code",
   "execution_count": 114,
   "metadata": {},
   "outputs": [
    {
     "data": {
      "text/plain": [
       "['yaho', 'yaooo', 'yaho', 'yaoooooooo']"
      ]
     },
     "execution_count": 114,
     "metadata": {},
     "output_type": "execute_result"
    }
   ],
   "source": [
    "re.findall(\"yah?o+\",\"yaho yaooo yaho yaoooooooo\") # h is here optional"
   ]
  },
  {
   "cell_type": "markdown",
   "metadata": {},
   "source": [
    "<h3>{m,n}</h3>\n",
    "find repeated patter, from m to possibly n times"
   ]
  },
  {
   "cell_type": "code",
   "execution_count": 122,
   "metadata": {},
   "outputs": [
    {
     "data": {
      "text/plain": [
       "(['2323', '23', '23231', '13'],\n",
       " ['2323', '23231'],\n",
       " ['2323', '23', '23231', '13'])"
      ]
     },
     "execution_count": 122,
     "metadata": {},
     "output_type": "execute_result"
    }
   ],
   "source": [
    "# find list of substrings in a doc that contain at leas 2 digits and at most \n",
    "# 5 digits\n",
    "(re.findall(\"[0-9]{2,5}\",\"fjal2323afjla23fjal1aldö2323113\"),\n",
    "re.findall(\"[0-9]{3,5}\",\"fjal2323afjla23fjal1aldö2323113\"),\n",
    "re.findall(\"\\d{2,5}\",\"fjal2323afjla23fjal1aldö2323113\"))"
   ]
  },
  {
   "cell_type": "markdown",
   "metadata": {},
   "source": [
    "<h3>|</h3>\n",
    "logical or. joins different pattern"
   ]
  },
  {
   "cell_type": "code",
   "execution_count": 18,
   "metadata": {},
   "outputs": [
    {
     "data": {
      "text/plain": [
       "['1hello2222', '8888', '999int2', '233']"
      ]
     },
     "execution_count": 18,
     "metadata": {},
     "output_type": "execute_result"
    }
   ],
   "source": [
    "# pattern to find end with a digit\n",
    "p1=\"\\w+[0-9]\"\n",
    "# pattern to find start with a digit\n",
    "p2= \"[0-9]\\w+\"\n",
    "# pattern to find 3 consecutive digits\n",
    "p3=\"[0-9]{3}\"\n",
    "# find p1 or p2\n",
    "re.findall(p1+'|'+p2+'|'+p3,\"1hello2222 8888 999int2 233aldja\")"
   ]
  },
  {
   "cell_type": "markdown",
   "metadata": {},
   "source": [
    "<h3>^</h3>\n",
    "if not in class, it can be used for matching at the beginning"
   ]
  },
  {
   "cell_type": "code",
   "execution_count": 22,
   "metadata": {},
   "outputs": [
    {
     "name": "stdout",
     "output_type": "stream",
     "text": [
      "<re.Match object; span=(0, 5), match='hello'>\n",
      "None\n"
     ]
    }
   ],
   "source": [
    "print(re.search(\"^hello\",\"hello world\"))\n",
    "print(re.search(\"^hello\",\"yo hello world\"))"
   ]
  },
  {
   "cell_type": "markdown",
   "metadata": {},
   "source": [
    "<h3>$</h3>\n",
    "matches at the end of a line, which is defined as either the end of a string, or any location followed by a newline character."
   ]
  },
  {
   "cell_type": "code",
   "execution_count": 32,
   "metadata": {},
   "outputs": [
    {
     "name": "stdout",
     "output_type": "stream",
     "text": [
      "['}']\n",
      "[]\n",
      "['e']\n",
      "[]\n"
     ]
    }
   ],
   "source": [
    "print(re.findall(\"}$\",\"{block}\"))\n",
    "print(re.findall(\"}$\",\"{block} \"))\n",
    "print(re.findall(\"e$\",\"{block} e\\n\"))\n",
    "print(re.findall(\"e$\",\"{block} e \"))"
   ]
  },
  {
   "cell_type": "markdown",
   "metadata": {},
   "source": [
    "<h3>()</h3> makes a group of characters to be treated just like a single character\n"
   ]
  },
  {
   "cell_type": "code",
   "execution_count": 35,
   "metadata": {},
   "outputs": [
    {
     "data": {
      "text/plain": [
       "['the', 'the']"
      ]
     },
     "execution_count": 35,
     "metadata": {},
     "output_type": "execute_result"
    }
   ],
   "source": [
    "re.findall(\"(the)+\",\"fjaljthethethealfjalthe\")"
   ]
  },
  {
   "cell_type": "code",
   "execution_count": 47,
   "metadata": {},
   "outputs": [
    {
     "data": {
      "text/plain": [
       "['+49157309942', '+49157309942']"
      ]
     },
     "execution_count": 47,
     "metadata": {},
     "output_type": "execute_result"
    }
   ],
   "source": [
    "# find phone number\n",
    "re.findall(\"([\\+49]{3}[0-9]{9})\",\n",
    "\"+4915730994238 +4315730994238 +4915730994238333 +491573s994238\")"
   ]
  },
  {
   "cell_type": "code",
   "execution_count": 46,
   "metadata": {},
   "outputs": [
    {
     "data": {
      "text/plain": [
       "['+49', '+49', '+49']"
      ]
     },
     "execution_count": 46,
     "metadata": {},
     "output_type": "execute_result"
    }
   ],
   "source": [
    "re.findall(\"(\\+49)\",\n",
    "\"+4915730994238 +4315730994238 +4915730994238333 +491573s994238\")"
   ]
  }
 ],
 "metadata": {
  "kernelspec": {
   "display_name": "my_anaconda_env",
   "language": "python",
   "name": "my_anaconda_env"
  },
  "language_info": {
   "codemirror_mode": {
    "name": "ipython",
    "version": 3
   },
   "file_extension": ".py",
   "mimetype": "text/x-python",
   "name": "python",
   "nbconvert_exporter": "python",
   "pygments_lexer": "ipython3",
   "version": "3.9.13"
  },
  "orig_nbformat": 4
 },
 "nbformat": 4,
 "nbformat_minor": 2
}
