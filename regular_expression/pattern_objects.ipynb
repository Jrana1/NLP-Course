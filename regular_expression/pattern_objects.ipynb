{
 "cells": [
  {
   "cell_type": "code",
   "execution_count": 1,
   "metadata": {},
   "outputs": [],
   "source": [
    "import re"
   ]
  },
  {
   "cell_type": "code",
   "execution_count": 2,
   "metadata": {},
   "outputs": [
    {
     "data": {
      "text/plain": [
       "['a23232b', 'ab']"
      ]
     },
     "execution_count": 2,
     "metadata": {},
     "output_type": "execute_result"
    }
   ],
   "source": [
    "p=re.compile('a\\d*b',re.IGNORECASE)\n",
    "p.findall(\"a23232baldfalab\")"
   ]
  },
  {
   "cell_type": "markdown",
   "metadata": {},
   "source": [
    "<code>match()</code> Determine if the RE matches at the **beginning** of the string <br>\n",
    "<code>search()</code> Scan through a string, looking for any location where this RE matches."
   ]
  },
  {
   "cell_type": "code",
   "execution_count": 12,
   "metadata": {},
   "outputs": [
    {
     "name": "stdout",
     "output_type": "stream",
     "text": [
      "(0, 13) 0 13 13\n",
      "ello fjalj\n"
     ]
    }
   ],
   "source": [
    "# count the number of spaces, if any, at the beginning of a doc\n",
    "\n",
    "p=re.compile(\"\\s*\")\n",
    "doc=\"         \\t \\t ello fjalj\"\n",
    "m=p.match(doc)\n",
    "print(m.span(),m.start(),m.end(),len(m.group()))\n",
    "print(doc[m.end():])"
   ]
  },
  {
   "cell_type": "code",
   "execution_count": 13,
   "metadata": {},
   "outputs": [
    {
     "name": "stdout",
     "output_type": "stream",
     "text": [
      "(0, 0) 0 0 0\n",
      "a         \t \t ello fjalj\n"
     ]
    }
   ],
   "source": [
    "# problem with match\n",
    "p=re.compile(\"\\s*\")\n",
    "doc=\"a         \\t \\t ello fjalj\"\n",
    "m=p.match(doc)\n",
    "print(m.span(),m.start(),m.end(),len(m.group()))\n",
    "print(doc[m.end():])"
   ]
  },
  {
   "cell_type": "code",
   "execution_count": 17,
   "metadata": {},
   "outputs": [
    {
     "name": "stdout",
     "output_type": "stream",
     "text": [
      "(1, 14) 1 14 13\n",
      "ello fjalj\n"
     ]
    }
   ],
   "source": [
    "# solution with search()\n",
    "p=re.compile(\"\\s+\")\n",
    "doc=\"a         \\t \\t ello fjalj\"\n",
    "m=p.search(doc)\n",
    "print(m.span(),m.start(),m.end(),len(m.group()))\n",
    "print(doc[m.end():])"
   ]
  },
  {
   "cell_type": "code",
   "execution_count": 20,
   "metadata": {},
   "outputs": [
    {
     "name": "stdout",
     "output_type": "stream",
     "text": [
      "(0, 5)\n",
      "(11, 12)\n",
      "(19, 21)\n",
      "(27, 29)\n"
     ]
    }
   ],
   "source": [
    "# how to find all occurrences of a char with position\n",
    "\n",
    "p=re.compile(\"\\s+\")\n",
    "iterator=p.finditer(\"   \\t helafj fjalfja \\talfjal \\tfjalfjal\")\n",
    "for it in iterator:\n",
    "    print(it.span())"
   ]
  }
 ],
 "metadata": {
  "kernelspec": {
   "display_name": "my_anaconda_env",
   "language": "python",
   "name": "my_anaconda_env"
  },
  "language_info": {
   "codemirror_mode": {
    "name": "ipython",
    "version": 3
   },
   "file_extension": ".py",
   "mimetype": "text/x-python",
   "name": "python",
   "nbconvert_exporter": "python",
   "pygments_lexer": "ipython3",
   "version": "3.9.13"
  },
  "orig_nbformat": 4
 },
 "nbformat": 4,
 "nbformat_minor": 2
}
